{
 "cells": [
  {
   "cell_type": "markdown",
   "metadata": {},
   "source": [
    "# Imports for processing the data set"
   ]
  },
  {
   "cell_type": "code",
   "execution_count": 14,
   "metadata": {},
   "outputs": [],
   "source": [
    "import sklearn.model_selection as model_selection\n",
    "import os\n",
    "import shutil\n",
    "import random"
   ]
  },
  {
   "cell_type": "markdown",
   "metadata": {},
   "source": [
    "# Pre-process the dataset to generate train-test split "
   ]
  },
  {
   "cell_type": "code",
   "execution_count": 38,
   "metadata": {},
   "outputs": [
    {
     "name": "stdout",
     "output_type": "stream",
     "text": [
      "Directories and files where this notebook is stored ['.ipynb_checkpoints', 'Facial_Expression_Training.ipynb', 'datasets', 'Cat_vs_Dog.ipynb']\n",
      "Directories at the specified path ['train', 'Dog', 'test', 'Cat']\n"
     ]
    }
   ],
   "source": [
    "print(\"Directories and files where this notebook is stored\", os.listdir(path='.'))\n",
    "\n",
    "path = \"./datasets/PetImages\"\n",
    "print(\"Directories at the specified path\", os.listdir(path))\n",
    "\n",
    "#setting the random seed for random library to ensure reporoducibility\n",
    "random.seed(30)\n",
    "\n",
    "#function randomly selects the filenames withing the cat and dog categories for test set\n",
    "def generate_testdata_filenames(path):    \n",
    "    Category = [\"Cat\",\"Dog\"]\n",
    "    test_file_names = []\n",
    "    for cat in Category:\n",
    "        updated_path = path+\"/\"+cat\n",
    "        file_list = os.listdir(updated_path)\n",
    "        print(\"Number of\",cat,\"images:\",len(file_list))\n",
    "\n",
    "        sampled_images = random.sample(file_list, 2000)\n",
    "        test_file_names.append(sampled_images)\n",
    "    return test_file_names\n",
    "\n",
    "#test_files = generate_testdata_filenames(path)"
   ]
  },
  {
   "cell_type": "markdown",
   "metadata": {},
   "source": [
    "# Move the train and test data into respective directories"
   ]
  },
  {
   "cell_type": "code",
   "execution_count": 34,
   "metadata": {},
   "outputs": [],
   "source": [
    "# function takes as input the path to data set and test_files to be moved\n",
    "def move_test_data(path, test_files):\n",
    "    Category = [\"Cat\", \"Dog\"]\n",
    "    for cat in Category:\n",
    "        source_path_dir = path+\"/\"+cat\n",
    "        destination_dir = path+\"/test\"+\"/\"+cat\n",
    "\n",
    "        file_list = test_files[Category.index(cat)]\n",
    "        for file in file_list:\n",
    "            file_path = source_path_dir+\"/\"+file\n",
    "            shutil.move(file_path, destination_dir)\n",
    "            \n",
    "#function moves the remaining data to train directory\n",
    "def move_train_data(path):\n",
    "    Category = [\"Cat\", \"Dog\"]\n",
    "    for cat in Category:\n",
    "        source_path_dir = path+\"/\"+cat\n",
    "        destination_dir = path+\"/train\"+\"/\"+cat\n",
    "        \n",
    "        file_list = os.listdir(source_path_dir)\n",
    "        for file in file_list:\n",
    "            file_path = source_path_dir+\"/\"+file\n",
    "            shutil.move(file_path, destination_dir)"
   ]
  },
  {
   "cell_type": "markdown",
   "metadata": {},
   "source": [
    "# Metadata of the Dataset"
   ]
  },
  {
   "cell_type": "code",
   "execution_count": 37,
   "metadata": {},
   "outputs": [
    {
     "name": "stdout",
     "output_type": "stream",
     "text": [
      "number of Cat images in training set: 10501\n",
      "number of Cat images in test set: 2000\n",
      "number of Dog images in training set: 10501\n",
      "number of Dog images in test set: 2000\n"
     ]
    }
   ],
   "source": [
    "#generate meta data info of the data set\n",
    "def generate_meta_data(path):\n",
    "    Category = [\"Cat\", \"Dog\"]\n",
    "    for cat in Category:\n",
    "        #print train, test data info\n",
    "        print(\"number of\",cat,\"images in training set:\",len(os.listdir(path+\"/train/\"+cat)))\n",
    "        print(\"number of\",cat,\"images in test set:\",len(os.listdir(path+\"/test/\"+cat)))\n",
    "\n",
    "generate_meta_data(path)"
   ]
  },
  {
   "cell_type": "markdown",
   "metadata": {},
   "source": [
    "# Clean the Images to clear to exif data"
   ]
  },
  {
   "cell_type": "code",
   "execution_count": 96,
   "metadata": {},
   "outputs": [],
   "source": [
    "from PIL import Image\n",
    "\n",
    "def remove_exif_data(path):\n",
    "    imageFolder = path+\"/test/Cat\"\n",
    "    new_image_path = path+\"/new_test/Cat\"\n",
    "    listImages = os.listdir(imageFolder)\n",
    "    count = 0\n",
    "    for img in listImages:\n",
    "        imgPath = os.path.join(imageFolder,img)\n",
    "\n",
    "\n",
    "        image = Image.open(imgPath).convert('RGB')\n",
    "\n",
    "        # next 3 lines strip exif\n",
    "        data = list(image.getdata())\n",
    "        image_without_exif = Image.new(image.mode, image.size)\n",
    "        image_without_exif.putdata(data)\n",
    "\n",
    "        image_without_exif.save(os.path.join(new_image_path,img))"
   ]
  },
  {
   "cell_type": "markdown",
   "metadata": {},
   "source": [
    "# Imports for CNN model"
   ]
  },
  {
   "cell_type": "code",
   "execution_count": 41,
   "metadata": {},
   "outputs": [
    {
     "name": "stdout",
     "output_type": "stream",
     "text": [
      "Tensorflow version: 1.12.0\n"
     ]
    }
   ],
   "source": [
    "import numpy as np\n",
    "import matplotlib.pyplot as plt\n",
    "from tensorflow.keras.preprocessing.image import ImageDataGenerator\n",
    "from tensorflow.keras.layers import Dense, Input, Dropout,Flatten, Conv2D\n",
    "from tensorflow.keras.layers import BatchNormalization, Activation, MaxPooling2D\n",
    "from tensorflow.keras.models import Model, Sequential\n",
    "from tensorflow.keras.optimizers import Adam\n",
    "from tensorflow.keras.callbacks import ModelCheckpoint, ReduceLROnPlateau\n",
    "from tensorflow.keras.utils import plot_model\n",
    "\n",
    "from IPython.display import SVG, Image\n",
    "import tensorflow as tf\n",
    "print(\"Tensorflow version:\", tf.__version__)"
   ]
  },
  {
   "cell_type": "markdown",
   "metadata": {},
   "source": [
    "# load train and validation data"
   ]
  },
  {
   "cell_type": "code",
   "execution_count": 92,
   "metadata": {
    "scrolled": true
   },
   "outputs": [
    {
     "name": "stdout",
     "output_type": "stream",
     "text": [
      "Found 20998 images belonging to 2 classes.\n",
      "Found 4000 images belonging to 2 classes.\n"
     ]
    }
   ],
   "source": [
    "img_size = 128\n",
    "batch_size = 64\n",
    "\n",
    "genNorm1 = ImageDataGenerator(horizontal_flip=True,\n",
    "                            rescale = 1./255,\n",
    "                            rotation_range = 20,\n",
    "                            )\n",
    "\n",
    "train_generator = genNorm1.flow_from_directory(path+'/new_train', target_size = (img_size,img_size),\n",
    "      class_mode = 'binary', batch_size = batch_size)\n",
    "\n",
    "genNorm2 = ImageDataGenerator(horizontal_flip=True,\n",
    "                            rescale = 1./255,\n",
    "                            rotation_range = 20,\n",
    "                            )\n",
    "\n",
    "test_generator = genNorm2.flow_from_directory(path+'/new_test', target_size = (img_size,img_size),\n",
    "      class_mode = 'binary', batch_size = batch_size)\n",
    "\n",
    "def view_images_datagenerator(batches):  \n",
    "    x_batch, y_batch = next(batches)\n",
    "\n",
    "    for i in range (5):\n",
    "        image = x_batch[i]\n",
    "        plt.imshow(image)\n",
    "        plt.show()"
   ]
  },
  {
   "cell_type": "markdown",
   "metadata": {},
   "source": [
    "# Model definition"
   ]
  },
  {
   "cell_type": "code",
   "execution_count": 93,
   "metadata": {},
   "outputs": [
    {
     "name": "stdout",
     "output_type": "stream",
     "text": [
      "_________________________________________________________________\n",
      "Layer (type)                 Output Shape              Param #   \n",
      "=================================================================\n",
      "conv2d_34 (Conv2D)           (None, 128, 128, 64)      1792      \n",
      "_________________________________________________________________\n",
      "batch_normalization_48 (Batc (None, 128, 128, 64)      256       \n",
      "_________________________________________________________________\n",
      "activation_48 (Activation)   (None, 128, 128, 64)      0         \n",
      "_________________________________________________________________\n",
      "max_pooling2d_34 (MaxPooling (None, 64, 64, 64)        0         \n",
      "_________________________________________________________________\n",
      "dropout_48 (Dropout)         (None, 64, 64, 64)        0         \n",
      "_________________________________________________________________\n",
      "conv2d_35 (Conv2D)           (None, 64, 64, 128)       204928    \n",
      "_________________________________________________________________\n",
      "batch_normalization_49 (Batc (None, 64, 64, 128)       512       \n",
      "_________________________________________________________________\n",
      "activation_49 (Activation)   (None, 64, 64, 128)       0         \n",
      "_________________________________________________________________\n",
      "max_pooling2d_35 (MaxPooling (None, 32, 32, 128)       0         \n",
      "_________________________________________________________________\n",
      "dropout_49 (Dropout)         (None, 32, 32, 128)       0         \n",
      "_________________________________________________________________\n",
      "conv2d_36 (Conv2D)           (None, 32, 32, 256)       295168    \n",
      "_________________________________________________________________\n",
      "batch_normalization_50 (Batc (None, 32, 32, 256)       1024      \n",
      "_________________________________________________________________\n",
      "activation_50 (Activation)   (None, 32, 32, 256)       0         \n",
      "_________________________________________________________________\n",
      "max_pooling2d_36 (MaxPooling (None, 16, 16, 256)       0         \n",
      "_________________________________________________________________\n",
      "dropout_50 (Dropout)         (None, 16, 16, 256)       0         \n",
      "_________________________________________________________________\n",
      "conv2d_37 (Conv2D)           (None, 16, 16, 512)       1180160   \n",
      "_________________________________________________________________\n",
      "batch_normalization_51 (Batc (None, 16, 16, 512)       2048      \n",
      "_________________________________________________________________\n",
      "activation_51 (Activation)   (None, 16, 16, 512)       0         \n",
      "_________________________________________________________________\n",
      "max_pooling2d_37 (MaxPooling (None, 8, 8, 512)         0         \n",
      "_________________________________________________________________\n",
      "dropout_51 (Dropout)         (None, 8, 8, 512)         0         \n",
      "_________________________________________________________________\n",
      "conv2d_38 (Conv2D)           (None, 8, 8, 1024)        4719616   \n",
      "_________________________________________________________________\n",
      "batch_normalization_52 (Batc (None, 8, 8, 1024)        4096      \n",
      "_________________________________________________________________\n",
      "activation_52 (Activation)   (None, 8, 8, 1024)        0         \n",
      "_________________________________________________________________\n",
      "max_pooling2d_38 (MaxPooling (None, 4, 4, 1024)        0         \n",
      "_________________________________________________________________\n",
      "dropout_52 (Dropout)         (None, 4, 4, 1024)        0         \n",
      "_________________________________________________________________\n",
      "flatten_7 (Flatten)          (None, 16384)             0         \n",
      "_________________________________________________________________\n",
      "dense_21 (Dense)             (None, 1024)              16778240  \n",
      "_________________________________________________________________\n",
      "batch_normalization_53 (Batc (None, 1024)              4096      \n",
      "_________________________________________________________________\n",
      "activation_53 (Activation)   (None, 1024)              0         \n",
      "_________________________________________________________________\n",
      "dropout_53 (Dropout)         (None, 1024)              0         \n",
      "_________________________________________________________________\n",
      "dense_22 (Dense)             (None, 512)               524800    \n",
      "_________________________________________________________________\n",
      "batch_normalization_54 (Batc (None, 512)               2048      \n",
      "_________________________________________________________________\n",
      "activation_54 (Activation)   (None, 512)               0         \n",
      "_________________________________________________________________\n",
      "dropout_54 (Dropout)         (None, 512)               0         \n",
      "_________________________________________________________________\n",
      "dense_23 (Dense)             (None, 1)                 513       \n",
      "=================================================================\n",
      "Total params: 23,719,297\n",
      "Trainable params: 23,712,257\n",
      "Non-trainable params: 7,040\n",
      "_________________________________________________________________\n"
     ]
    }
   ],
   "source": [
    "# Initialising the CNN\n",
    "model = Sequential()\n",
    "\n",
    "# 1 - Convolution\n",
    "model.add(Conv2D(64,(3,3), padding='same', input_shape=(128, 128, 3)))\n",
    "model.add(BatchNormalization())\n",
    "model.add(Activation('relu'))\n",
    "model.add(MaxPooling2D(pool_size=(2, 2)))\n",
    "model.add(Dropout(0.25))\n",
    "\n",
    "# 2nd Convolution layer\n",
    "model.add(Conv2D(128,(5,5), padding='same'))\n",
    "model.add(BatchNormalization())\n",
    "model.add(Activation('relu'))\n",
    "model.add(MaxPooling2D(pool_size=(2, 2)))\n",
    "model.add(Dropout(0.25))\n",
    "\n",
    "# 3rd Convolution layer\n",
    "model.add(Conv2D(256,(3,3), padding='same'))\n",
    "model.add(BatchNormalization())\n",
    "model.add(Activation('relu'))\n",
    "model.add(MaxPooling2D(pool_size=(2, 2)))\n",
    "model.add(Dropout(0.25))\n",
    "\n",
    "# 4th Convolution layer\n",
    "model.add(Conv2D(512,(3,3), padding='same'))\n",
    "model.add(BatchNormalization())\n",
    "model.add(Activation('relu'))\n",
    "model.add(MaxPooling2D(pool_size=(2, 2)))\n",
    "model.add(Dropout(0.25))\n",
    "\n",
    "# 5th Convolution layer\n",
    "model.add(Conv2D(1024,(3,3), padding='same'))\n",
    "model.add(BatchNormalization())\n",
    "model.add(Activation('relu'))\n",
    "model.add(MaxPooling2D(pool_size=(2, 2)))\n",
    "model.add(Dropout(0.25))\n",
    "# Flattening\n",
    "model.add(Flatten())\n",
    "\n",
    "# Fully connected layer 1st layer\n",
    "model.add(Dense(1024))\n",
    "model.add(BatchNormalization())\n",
    "model.add(Activation('relu'))\n",
    "model.add(Dropout(0.25))\n",
    "\n",
    "# Fully connected layer 2nd layer\n",
    "model.add(Dense(512))\n",
    "model.add(BatchNormalization())\n",
    "model.add(Activation('relu'))\n",
    "model.add(Dropout(0.25))\n",
    "\n",
    "model.add(Dense(1, activation='sigmoid'))\n",
    "\n",
    "opt = Adam(lr=0.005)\n",
    "model.compile(optimizer=opt, loss='binary_crossentropy', metrics=['accuracy'])\n",
    "model.summary()"
   ]
  },
  {
   "cell_type": "markdown",
   "metadata": {},
   "source": [
    "# Training with checkpoint: 1"
   ]
  },
  {
   "cell_type": "code",
   "execution_count": 94,
   "metadata": {},
   "outputs": [
    {
     "name": "stdout",
     "output_type": "stream",
     "text": [
      "Epoch 1/15\n",
      "327/328 [============================>.] - ETA: 0s - loss: 0.6747 - acc: 0.6244\n",
      "Epoch 00001: saving model to Model_Weights/designed_model_1_weights.h5\n",
      "328/328 [==============================] - 168s 511ms/step - loss: 0.6747 - acc: 0.6246 - val_loss: 0.6178 - val_acc: 0.6686\n",
      "Epoch 2/15\n",
      "327/328 [============================>.] - ETA: 0s - loss: 0.5244 - acc: 0.7370\n",
      "Epoch 00002: saving model to Model_Weights/designed_model_1_weights.h5\n",
      "328/328 [==============================] - 161s 490ms/step - loss: 0.5241 - acc: 0.7372 - val_loss: 0.7042 - val_acc: 0.6419\n",
      "Epoch 3/15\n",
      "327/328 [============================>.] - ETA: 0s - loss: 0.4473 - acc: 0.7899\n",
      "Epoch 00003: saving model to Model_Weights/designed_model_1_weights.h5\n",
      "328/328 [==============================] - 158s 482ms/step - loss: 0.4471 - acc: 0.7900 - val_loss: 0.7664 - val_acc: 0.6815\n",
      "Epoch 4/15\n",
      "327/328 [============================>.] - ETA: 0s - loss: 0.3949 - acc: 0.8230\n",
      "Epoch 00004: saving model to Model_Weights/designed_model_1_weights.h5\n",
      "328/328 [==============================] - 160s 487ms/step - loss: 0.3952 - acc: 0.8229 - val_loss: 0.4956 - val_acc: 0.7694\n",
      "Epoch 5/15\n",
      "327/328 [============================>.] - ETA: 0s - loss: 0.3386 - acc: 0.8532\n",
      "Epoch 00005: saving model to Model_Weights/designed_model_1_weights.h5\n",
      "328/328 [==============================] - 154s 469ms/step - loss: 0.3385 - acc: 0.8532 - val_loss: 0.3391 - val_acc: 0.8584\n",
      "Epoch 6/15\n",
      "327/328 [============================>.] - ETA: 0s - loss: 0.3113 - acc: 0.8634\n",
      "Epoch 00006: saving model to Model_Weights/designed_model_1_weights.h5\n",
      "328/328 [==============================] - 160s 487ms/step - loss: 0.3113 - acc: 0.8635 - val_loss: 0.3315 - val_acc: 0.8647\n",
      "Epoch 7/15\n",
      "327/328 [============================>.] - ETA: 0s - loss: 0.2790 - acc: 0.8814\n",
      "Epoch 00007: saving model to Model_Weights/designed_model_1_weights.h5\n",
      "328/328 [==============================] - 158s 481ms/step - loss: 0.2789 - acc: 0.8814 - val_loss: 0.3295 - val_acc: 0.8518\n",
      "Epoch 8/15\n",
      "327/328 [============================>.] - ETA: 0s - loss: 0.2474 - acc: 0.8976\n",
      "Epoch 00008: saving model to Model_Weights/designed_model_1_weights.h5\n",
      "328/328 [==============================] - 152s 465ms/step - loss: 0.2473 - acc: 0.8977 - val_loss: 0.3315 - val_acc: 0.8508\n",
      "Epoch 9/15\n",
      "327/328 [============================>.] - ETA: 0s - loss: 0.2389 - acc: 0.9021\n",
      "Epoch 00009: saving model to Model_Weights/designed_model_1_weights.h5\n",
      "328/328 [==============================] - 154s 470ms/step - loss: 0.2387 - acc: 0.9020 - val_loss: 0.2531 - val_acc: 0.8904\n",
      "Epoch 10/15\n",
      "327/328 [============================>.] - ETA: 0s - loss: 0.2118 - acc: 0.9090\n",
      "Epoch 00010: saving model to Model_Weights/designed_model_1_weights.h5\n",
      "328/328 [==============================] - 161s 492ms/step - loss: 0.2121 - acc: 0.9088 - val_loss: 0.2535 - val_acc: 0.8939\n",
      "Epoch 11/15\n",
      "327/328 [============================>.] - ETA: 0s - loss: 0.2001 - acc: 0.9165\n",
      "Epoch 00011: saving model to Model_Weights/designed_model_1_weights.h5\n",
      "328/328 [==============================] - 158s 481ms/step - loss: 0.1999 - acc: 0.9166 - val_loss: 0.2124 - val_acc: 0.9133\n",
      "Epoch 12/15\n",
      "327/328 [============================>.] - ETA: 0s - loss: 0.1857 - acc: 0.9240\n",
      "Epoch 00012: saving model to Model_Weights/designed_model_1_weights.h5\n",
      "328/328 [==============================] - 160s 488ms/step - loss: 0.1859 - acc: 0.9239 - val_loss: 0.2071 - val_acc: 0.9163\n",
      "Epoch 13/15\n",
      "327/328 [============================>.] - ETA: 0s - loss: 0.1773 - acc: 0.9290\n",
      "Epoch 00013: saving model to Model_Weights/designed_model_1_weights.h5\n",
      "328/328 [==============================] - 168s 511ms/step - loss: 0.1771 - acc: 0.9290 - val_loss: 0.1945 - val_acc: 0.9123\n",
      "Epoch 14/15\n",
      "327/328 [============================>.] - ETA: 0s - loss: 0.1715 - acc: 0.9297\n",
      "Epoch 00014: saving model to Model_Weights/designed_model_1_weights.h5\n",
      "328/328 [==============================] - 161s 492ms/step - loss: 0.1716 - acc: 0.9296 - val_loss: 0.2049 - val_acc: 0.9133\n",
      "Epoch 15/15\n",
      "327/328 [============================>.] - ETA: 0s - loss: 0.1558 - acc: 0.9365\n",
      "Epoch 00015: saving model to Model_Weights/designed_model_1_weights.h5\n",
      "328/328 [==============================] - 155s 472ms/step - loss: 0.1557 - acc: 0.9366 - val_loss: 0.1989 - val_acc: 0.9186\n"
     ]
    }
   ],
   "source": [
    "epochs = 15\n",
    "steps_per_epoch = train_generator.n//train_generator.batch_size\n",
    "test_steps = test_generator.n//test_generator.batch_size\n",
    "\n",
    "checkpoint = ModelCheckpoint(\"Model_Weights/designed_model_1_weights.h5\", monitor='val_accuracy',\n",
    "                             save_weights_only=True, mode='max', verbose=1)\n",
    "callbacks = [checkpoint]\n",
    "\n",
    "history = model.fit(\n",
    "    x=train_generator,\n",
    "    steps_per_epoch=steps_per_epoch,\n",
    "    epochs=epochs,\n",
    "    validation_data = test_generator,\n",
    "    validation_steps = test_steps,\n",
    "    callbacks=callbacks\n",
    ")"
   ]
  },
  {
   "cell_type": "markdown",
   "metadata": {},
   "source": [
    "# Plot loss and Accuracy"
   ]
  },
  {
   "cell_type": "code",
   "execution_count": 99,
   "metadata": {},
   "outputs": [
    {
     "name": "stdout",
     "output_type": "stream",
     "text": [
      "dict_keys(['acc', 'val_loss', 'val_acc', 'loss'])\n"
     ]
    },
    {
     "data": {
      "image/png": "[encoded data removed]",
      "text/plain": [
       "<matplotlib.figure.Figure at 0x7f06c41e02e8>"
      ]
     },
     "metadata": {
      "needs_background": "light"
     },
     "output_type": "display_data"
    },
    {
     "data": {
      "image/png": "[encoded data removed]",
      "text/plain": [
       "<matplotlib.figure.Figure at 0x7f0660187e48>"
      ]
     },
     "metadata": {
      "needs_background": "light"
     },
     "output_type": "display_data"
    }
   ],
   "source": [
    "print(history.history.keys())\n",
    "# summarize history for accuracy\n",
    "plt.plot(history.history['acc'])\n",
    "plt.plot(history.history['val_acc'])\n",
    "plt.title('model accuracy')\n",
    "plt.ylabel('accuracy')\n",
    "plt.xlabel('epoch')\n",
    "plt.legend(['train', 'test'], loc='upper left')\n",
    "plt.show()\n",
    "# summarize history for loss\n",
    "plt.plot(history.history['loss'])\n",
    "plt.plot(history.history['val_loss'])\n",
    "plt.title('model loss')\n",
    "plt.ylabel('loss')\n",
    "plt.xlabel('epoch')\n",
    "plt.legend(['train', 'test'], loc='upper left')\n",
    "plt.show()"
   ]
  },
  {
   "cell_type": "markdown",
   "metadata": {},
   "source": [
    "# Save the model as JSON"
   ]
  },
  {
   "cell_type": "code",
   "execution_count": 100,
   "metadata": {},
   "outputs": [],
   "source": [
    "model_json = model.to_json()\n",
    "with open(\"designed_model_1.json\", \"w\") as json_file:\n",
    "    json_file.write(model_json)"
   ]
  },
  {
   "cell_type": "markdown",
   "metadata": {},
   "source": [
    "# Update lr and training: 2"
   ]
  },
  {
   "cell_type": "code",
   "execution_count": 108,
   "metadata": {},
   "outputs": [
    {
     "name": "stdout",
     "output_type": "stream",
     "text": [
      "Epoch 1/15\n",
      "327/328 [============================>.] - ETA: 0s - loss: 0.1490 - acc: 0.9409\n",
      "Epoch 00001: saving model to Model_Weights/designed_model_1_weights.h5\n",
      "328/328 [==============================] - 159s 483ms/step - loss: 0.1487 - acc: 0.9410 - val_loss: 0.1673 - val_acc: 0.9279\n",
      "Epoch 2/15\n",
      "327/328 [============================>.] - ETA: 0s - loss: 0.1503 - acc: 0.9396\n",
      "Epoch 00002: saving model to Model_Weights/designed_model_1_weights.h5\n",
      "328/328 [==============================] - 159s 485ms/step - loss: 0.1504 - acc: 0.9395 - val_loss: 0.3192 - val_acc: 0.8735\n",
      "Epoch 3/15\n",
      "327/328 [============================>.] - ETA: 0s - loss: 0.1450 - acc: 0.9404\n",
      "Epoch 00003: saving model to Model_Weights/designed_model_1_weights.h5\n",
      "328/328 [==============================] - 167s 509ms/step - loss: 0.1452 - acc: 0.9403 - val_loss: 0.1834 - val_acc: 0.9234\n",
      "Epoch 4/15\n",
      "327/328 [============================>.] - ETA: 0s - loss: 0.1413 - acc: 0.9440\n",
      "Epoch 00004: saving model to Model_Weights/designed_model_1_weights.h5\n",
      "328/328 [==============================] - 150s 459ms/step - loss: 0.1411 - acc: 0.9441 - val_loss: 0.2053 - val_acc: 0.9236\n",
      "Epoch 5/15\n",
      "327/328 [============================>.] - ETA: 0s - loss: 0.1349 - acc: 0.9476\n",
      "Epoch 00005: saving model to Model_Weights/designed_model_1_weights.h5\n",
      "328/328 [==============================] - 155s 472ms/step - loss: 0.1349 - acc: 0.9476 - val_loss: 0.1966 - val_acc: 0.9219\n",
      "Epoch 6/15\n",
      "327/328 [============================>.] - ETA: 0s - loss: 0.1270 - acc: 0.9512\n",
      "Epoch 00006: saving model to Model_Weights/designed_model_1_weights.h5\n",
      "328/328 [==============================] - 153s 468ms/step - loss: 0.1267 - acc: 0.9513 - val_loss: 0.2354 - val_acc: 0.8974\n",
      "Epoch 7/15\n",
      "327/328 [============================>.] - ETA: 0s - loss: 0.1229 - acc: 0.9504\n",
      "Epoch 00007: saving model to Model_Weights/designed_model_1_weights.h5\n",
      "328/328 [==============================] - 157s 478ms/step - loss: 0.1228 - acc: 0.9504 - val_loss: 0.1767 - val_acc: 0.9249\n",
      "Epoch 8/15\n",
      "327/328 [============================>.] - ETA: 0s - loss: 0.1169 - acc: 0.9531\n",
      "Epoch 00008: saving model to Model_Weights/designed_model_1_weights.h5\n",
      "328/328 [==============================] - 160s 489ms/step - loss: 0.1169 - acc: 0.9530 - val_loss: 0.1752 - val_acc: 0.9307\n",
      "Epoch 9/15\n",
      "327/328 [============================>.] - ETA: 0s - loss: 0.1159 - acc: 0.9524\n",
      "Epoch 00009: saving model to Model_Weights/designed_model_1_weights.h5\n",
      "328/328 [==============================] - 154s 470ms/step - loss: 0.1161 - acc: 0.9525 - val_loss: 0.1656 - val_acc: 0.9330\n",
      "Epoch 10/15\n",
      "327/328 [============================>.] - ETA: 0s - loss: 0.1117 - acc: 0.9567\n",
      "Epoch 00010: saving model to Model_Weights/designed_model_1_weights.h5\n",
      "328/328 [==============================] - 162s 494ms/step - loss: 0.1121 - acc: 0.9565 - val_loss: 0.1629 - val_acc: 0.9325\n",
      "Epoch 11/15\n",
      "327/328 [============================>.] - ETA: 0s - loss: 0.1022 - acc: 0.9606\n",
      "Epoch 00011: saving model to Model_Weights/designed_model_1_weights.h5\n",
      "328/328 [==============================] - 160s 488ms/step - loss: 0.1025 - acc: 0.9606 - val_loss: 0.1921 - val_acc: 0.9231\n",
      "Epoch 12/15\n",
      "327/328 [============================>.] - ETA: 0s - loss: 0.1192 - acc: 0.9532\n",
      "Epoch 00012: saving model to Model_Weights/designed_model_1_weights.h5\n",
      "328/328 [==============================] - 160s 487ms/step - loss: 0.1198 - acc: 0.9529 - val_loss: 0.6482 - val_acc: 0.6883\n",
      "Epoch 13/15\n",
      "327/328 [============================>.] - ETA: 0s - loss: 0.1278 - acc: 0.9510\n",
      "Epoch 00013: saving model to Model_Weights/designed_model_1_weights.h5\n",
      "328/328 [==============================] - 157s 478ms/step - loss: 0.1275 - acc: 0.9511 - val_loss: 0.2012 - val_acc: 0.9211\n",
      "Epoch 14/15\n",
      "327/328 [============================>.] - ETA: 0s - loss: 0.1042 - acc: 0.9574\n",
      "Epoch 00014: saving model to Model_Weights/designed_model_1_weights.h5\n",
      "328/328 [==============================] - 157s 480ms/step - loss: 0.1042 - acc: 0.9574 - val_loss: 0.1929 - val_acc: 0.9264\n",
      "Epoch 15/15\n",
      "327/328 [============================>.] - ETA: 0s - loss: 0.1018 - acc: 0.9616\n",
      "Epoch 00015: saving model to Model_Weights/designed_model_1_weights.h5\n",
      "328/328 [==============================] - 160s 488ms/step - loss: 0.1015 - acc: 0.9617 - val_loss: 0.1922 - val_acc: 0.9257\n"
     ]
    }
   ],
   "source": [
    "from keras import backend as K\n",
    "K.set_value(model.optimizer.lr, 0.001)\n",
    "\n",
    "history = model.fit(\n",
    "    x=train_generator,\n",
    "    steps_per_epoch=steps_per_epoch,\n",
    "    epochs=epochs,\n",
    "    validation_data = test_generator,\n",
    "    validation_steps = test_steps,\n",
    "    callbacks=callbacks\n",
    ")\n"
   ]
  },
  {
   "cell_type": "markdown",
   "metadata": {},
   "source": [
    "# Plot loss and Accuracy"
   ]
  },
  {
   "cell_type": "code",
   "execution_count": 109,
   "metadata": {},
   "outputs": [
    {
     "data": {
      "image/png": "[encoded data removed]",
      "text/plain": [
       "<matplotlib.figure.Figure at 0x7f07386164e0>"
      ]
     },
     "metadata": {
      "needs_background": "light"
     },
     "output_type": "display_data"
    },
    {
     "data": {
      "image/png": "[encoded data removed]",
      "text/plain": [
       "<matplotlib.figure.Figure at 0x7f06600fee48>"
      ]
     },
     "metadata": {
      "needs_background": "light"
     },
     "output_type": "display_data"
    }
   ],
   "source": [
    "# summarize history for accuracy\n",
    "plt.plot(history.history['acc'])\n",
    "plt.plot(history.history['val_acc'])\n",
    "plt.title('model accuracy')\n",
    "plt.ylabel('accuracy')\n",
    "plt.xlabel('epoch')\n",
    "plt.legend(['train', 'test'], loc='upper left')\n",
    "plt.show()\n",
    "# summarize history for loss\n",
    "plt.plot(history.history['loss'])\n",
    "plt.plot(history.history['val_loss'])\n",
    "plt.title('model loss')\n",
    "plt.ylabel('loss')\n",
    "plt.xlabel('epoch')\n",
    "plt.legend(['train', 'test'], loc='upper left')\n",
    "plt.show()"
   ]
  },
  {
   "cell_type": "markdown",
   "metadata": {},
   "source": [
    "# Update lr and training: 3"
   ]
  },
  {
   "cell_type": "code",
   "execution_count": 110,
   "metadata": {},
   "outputs": [
    {
     "name": "stdout",
     "output_type": "stream",
     "text": [
      "Epoch 1/30\n",
      "327/328 [============================>.] - ETA: 0s - loss: 0.0856 - acc: 0.9666\n",
      "Epoch 00001: saving model to Model_Weights/designed_model_1_weights.h5\n",
      "328/328 [==============================] - 158s 481ms/step - loss: 0.0855 - acc: 0.9667 - val_loss: 0.1560 - val_acc: 0.9403\n",
      "Epoch 2/30\n",
      "327/328 [============================>.] - ETA: 0s - loss: 0.0906 - acc: 0.9649\n",
      "Epoch 00002: saving model to Model_Weights/designed_model_1_weights.h5\n",
      "328/328 [==============================] - 163s 496ms/step - loss: 0.0906 - acc: 0.9649 - val_loss: 0.1831 - val_acc: 0.9267\n",
      "Epoch 3/30\n",
      "327/328 [============================>.] - ETA: 0s - loss: 0.1004 - acc: 0.9608\n",
      "Epoch 00003: saving model to Model_Weights/designed_model_1_weights.h5\n",
      "328/328 [==============================] - 157s 479ms/step - loss: 0.1006 - acc: 0.9608 - val_loss: 0.1377 - val_acc: 0.9443\n",
      "Epoch 4/30\n",
      "327/328 [============================>.] - ETA: 0s - loss: 0.0786 - acc: 0.9701\n",
      "Epoch 00004: saving model to Model_Weights/designed_model_1_weights.h5\n",
      "328/328 [==============================] - 167s 511ms/step - loss: 0.0786 - acc: 0.9701 - val_loss: 0.1584 - val_acc: 0.9403\n",
      "Epoch 5/30\n",
      "327/328 [============================>.] - ETA: 0s - loss: 0.0791 - acc: 0.9701\n",
      "Epoch 00005: saving model to Model_Weights/designed_model_1_weights.h5\n",
      "328/328 [==============================] - 154s 471ms/step - loss: 0.0790 - acc: 0.9701 - val_loss: 0.1532 - val_acc: 0.9413\n",
      "Epoch 6/30\n",
      "327/328 [============================>.] - ETA: 0s - loss: 0.0914 - acc: 0.9637\n",
      "Epoch 00006: saving model to Model_Weights/designed_model_1_weights.h5\n",
      "328/328 [==============================] - 159s 486ms/step - loss: 0.0913 - acc: 0.9637 - val_loss: 0.2263 - val_acc: 0.9151\n",
      "Epoch 7/30\n",
      "327/328 [============================>.] - ETA: 0s - loss: 0.0787 - acc: 0.9688\n",
      "Epoch 00007: saving model to Model_Weights/designed_model_1_weights.h5\n",
      "328/328 [==============================] - 155s 472ms/step - loss: 0.0787 - acc: 0.9688 - val_loss: 0.1396 - val_acc: 0.9466\n",
      "Epoch 8/30\n",
      "327/328 [============================>.] - ETA: 0s - loss: 0.0722 - acc: 0.9720\n",
      "Epoch 00008: saving model to Model_Weights/designed_model_1_weights.h5\n",
      "328/328 [==============================] - 155s 473ms/step - loss: 0.0722 - acc: 0.9720 - val_loss: 0.1479 - val_acc: 0.9443\n",
      "Epoch 9/30\n",
      "327/328 [============================>.] - ETA: 0s - loss: 0.0738 - acc: 0.9711\n",
      "Epoch 00009: saving model to Model_Weights/designed_model_1_weights.h5\n",
      "328/328 [==============================] - 156s 475ms/step - loss: 0.0738 - acc: 0.9711 - val_loss: 0.1430 - val_acc: 0.9498\n",
      "Epoch 10/30\n",
      "327/328 [============================>.] - ETA: 0s - loss: 0.0671 - acc: 0.9741\n",
      "Epoch 00010: saving model to Model_Weights/designed_model_1_weights.h5\n",
      "328/328 [==============================] - 149s 453ms/step - loss: 0.0672 - acc: 0.9739 - val_loss: 0.2258 - val_acc: 0.9060\n",
      "Epoch 11/30\n",
      "327/328 [============================>.] - ETA: 0s - loss: 0.0743 - acc: 0.9724\n",
      "Epoch 00011: saving model to Model_Weights/designed_model_1_weights.h5\n",
      "328/328 [==============================] - 166s 507ms/step - loss: 0.0744 - acc: 0.9724 - val_loss: 0.1749 - val_acc: 0.9385\n",
      "Epoch 12/30\n",
      "327/328 [============================>.] - ETA: 0s - loss: 0.0653 - acc: 0.9749\n",
      "Epoch 00012: saving model to Model_Weights/designed_model_1_weights.h5\n",
      "328/328 [==============================] - 150s 457ms/step - loss: 0.0652 - acc: 0.9750 - val_loss: 0.1516 - val_acc: 0.9471\n",
      "Epoch 13/30\n",
      "327/328 [============================>.] - ETA: 0s - loss: 0.0644 - acc: 0.9757\n",
      "Epoch 00013: saving model to Model_Weights/designed_model_1_weights.h5\n",
      "328/328 [==============================] - 155s 473ms/step - loss: 0.0644 - acc: 0.9757 - val_loss: 0.1450 - val_acc: 0.9488\n",
      "Epoch 14/30\n",
      "327/328 [============================>.] - ETA: 0s - loss: 0.0585 - acc: 0.9794\n",
      "Epoch 00014: saving model to Model_Weights/designed_model_1_weights.h5\n",
      "328/328 [==============================] - 157s 480ms/step - loss: 0.0583 - acc: 0.9795 - val_loss: 0.1512 - val_acc: 0.9451\n",
      "Epoch 15/30\n",
      "327/328 [============================>.] - ETA: 0s - loss: 0.0582 - acc: 0.9777\n",
      "Epoch 00015: saving model to Model_Weights/designed_model_1_weights.h5\n",
      "328/328 [==============================] - 169s 515ms/step - loss: 0.0581 - acc: 0.9778 - val_loss: 0.3273 - val_acc: 0.9020\n",
      "Epoch 16/30\n",
      "327/328 [============================>.] - ETA: 0s - loss: 0.0542 - acc: 0.9790\n",
      "Epoch 00016: saving model to Model_Weights/designed_model_1_weights.h5\n",
      "328/328 [==============================] - 156s 476ms/step - loss: 0.0542 - acc: 0.9790 - val_loss: 0.1962 - val_acc: 0.9405\n",
      "Epoch 17/30\n",
      "327/328 [============================>.] - ETA: 0s - loss: 0.0580 - acc: 0.9790\n",
      "Epoch 00017: saving model to Model_Weights/designed_model_1_weights.h5\n",
      "328/328 [==============================] - 152s 463ms/step - loss: 0.0579 - acc: 0.9791 - val_loss: 0.1498 - val_acc: 0.9461\n",
      "Epoch 18/30\n",
      "327/328 [============================>.] - ETA: 0s - loss: 0.0594 - acc: 0.9775\n",
      "Epoch 00018: saving model to Model_Weights/designed_model_1_weights.h5\n",
      "328/328 [==============================] - 168s 513ms/step - loss: 0.0593 - acc: 0.9775 - val_loss: 0.1483 - val_acc: 0.9423\n",
      "Epoch 19/30\n",
      "327/328 [============================>.] - ETA: 0s - loss: 0.0578 - acc: 0.9788\n",
      "Epoch 00019: saving model to Model_Weights/designed_model_1_weights.h5\n",
      "328/328 [==============================] - 156s 477ms/step - loss: 0.0580 - acc: 0.9787 - val_loss: 0.1634 - val_acc: 0.9478\n",
      "Epoch 20/30\n",
      "327/328 [============================>.] - ETA: 0s - loss: 0.0676 - acc: 0.9750\n",
      "Epoch 00020: saving model to Model_Weights/designed_model_1_weights.h5\n",
      "328/328 [==============================] - 166s 505ms/step - loss: 0.0675 - acc: 0.9750 - val_loss: 0.1642 - val_acc: 0.9433\n",
      "Epoch 21/30\n",
      "327/328 [============================>.] - ETA: 0s - loss: 0.0668 - acc: 0.9739\n",
      "Epoch 00021: saving model to Model_Weights/designed_model_1_weights.h5\n",
      "328/328 [==============================] - 158s 480ms/step - loss: 0.0667 - acc: 0.9740 - val_loss: 0.1602 - val_acc: 0.9408\n",
      "Epoch 22/30\n",
      "327/328 [============================>.] - ETA: 0s - loss: 0.0590 - acc: 0.9780\n",
      "Epoch 00022: saving model to Model_Weights/designed_model_1_weights.h5\n",
      "328/328 [==============================] - 156s 475ms/step - loss: 0.0589 - acc: 0.9780 - val_loss: 0.1431 - val_acc: 0.9511\n",
      "Epoch 23/30\n",
      "327/328 [============================>.] - ETA: 0s - loss: 0.0466 - acc: 0.9826\n",
      "Epoch 00023: saving model to Model_Weights/designed_model_1_weights.h5\n",
      "328/328 [==============================] - 158s 481ms/step - loss: 0.0465 - acc: 0.9826 - val_loss: 0.1511 - val_acc: 0.9509\n",
      "Epoch 24/30\n",
      "327/328 [============================>.] - ETA: 0s - loss: 0.0454 - acc: 0.9819\n",
      "Epoch 00024: saving model to Model_Weights/designed_model_1_weights.h5\n",
      "328/328 [==============================] - 148s 451ms/step - loss: 0.0453 - acc: 0.9820 - val_loss: 0.1669 - val_acc: 0.9446\n",
      "Epoch 25/30\n",
      "327/328 [============================>.] - ETA: 0s - loss: 0.0557 - acc: 0.9789\n",
      "Epoch 00025: saving model to Model_Weights/designed_model_1_weights.h5\n",
      "328/328 [==============================] - 150s 459ms/step - loss: 0.0557 - acc: 0.9790 - val_loss: 0.1653 - val_acc: 0.9408\n",
      "Epoch 26/30\n",
      "327/328 [============================>.] - ETA: 0s - loss: 0.0484 - acc: 0.9822\n",
      "Epoch 00026: saving model to Model_Weights/designed_model_1_weights.h5\n",
      "328/328 [==============================] - 159s 486ms/step - loss: 0.0484 - acc: 0.9822 - val_loss: 0.1529 - val_acc: 0.9491\n",
      "Epoch 27/30\n",
      "327/328 [============================>.] - ETA: 0s - loss: 0.0986 - acc: 0.9644\n",
      "Epoch 00027: saving model to Model_Weights/designed_model_1_weights.h5\n",
      "328/328 [==============================] - 148s 452ms/step - loss: 0.0984 - acc: 0.9645 - val_loss: 0.2484 - val_acc: 0.9246\n",
      "Epoch 28/30\n",
      "327/328 [============================>.] - ETA: 0s - loss: 0.0469 - acc: 0.9825\n",
      "Epoch 00028: saving model to Model_Weights/designed_model_1_weights.h5\n",
      "328/328 [==============================] - 155s 473ms/step - loss: 0.0469 - acc: 0.9825 - val_loss: 0.1578 - val_acc: 0.9453\n",
      "Epoch 29/30\n",
      "327/328 [============================>.] - ETA: 0s - loss: 0.0520 - acc: 0.9811\n",
      "Epoch 00029: saving model to Model_Weights/designed_model_1_weights.h5\n"
     ]
    },
    {
     "name": "stdout",
     "output_type": "stream",
     "text": [
      "328/328 [==============================] - 153s 465ms/step - loss: 0.0522 - acc: 0.9810 - val_loss: 0.1340 - val_acc: 0.9531\n",
      "Epoch 30/30\n",
      "327/328 [============================>.] - ETA: 0s - loss: 0.0388 - acc: 0.9853\n",
      "Epoch 00030: saving model to Model_Weights/designed_model_1_weights.h5\n",
      "328/328 [==============================] - 152s 463ms/step - loss: 0.0387 - acc: 0.9854 - val_loss: 0.1576 - val_acc: 0.9521\n"
     ]
    }
   ],
   "source": [
    "from keras import backend as K\n",
    "K.set_value(model.optimizer.lr, 0.0005)\n",
    "\n",
    "epochs = 30\n",
    "\n",
    "history = model.fit(\n",
    "    x=train_generator,\n",
    "    steps_per_epoch=steps_per_epoch,\n",
    "    epochs=epochs,\n",
    "    validation_data = test_generator,\n",
    "    validation_steps = test_steps,\n",
    "    callbacks=callbacks\n",
    ")"
   ]
  },
  {
   "cell_type": "markdown",
   "metadata": {},
   "source": [
    "# Plot loss and Accuracy"
   ]
  },
  {
   "cell_type": "code",
   "execution_count": 111,
   "metadata": {},
   "outputs": [
    {
     "data": {
      "image/png": "[encoded data removed]",
      "text/plain": [
       "<matplotlib.figure.Figure at 0x7f06602e50b8>"
      ]
     },
     "metadata": {
      "needs_background": "light"
     },
     "output_type": "display_data"
    },
    {
     "data": {
      "image/png": "[encoded data removed]",
      "text/plain": [
       "<matplotlib.figure.Figure at 0x7f06600a57b8>"
      ]
     },
     "metadata": {
      "needs_background": "light"
     },
     "output_type": "display_data"
    }
   ],
   "source": [
    "# summarize history for accuracy\n",
    "plt.plot(history.history['acc'])\n",
    "plt.plot(history.history['val_acc'])\n",
    "plt.title('model accuracy')\n",
    "plt.ylabel('accuracy')\n",
    "plt.xlabel('epoch')\n",
    "plt.legend(['train', 'test'], loc='upper left')\n",
    "plt.show()\n",
    "# summarize history for loss\n",
    "plt.plot(history.history['loss'])\n",
    "plt.plot(history.history['val_loss'])\n",
    "plt.title('model loss')\n",
    "plt.ylabel('loss')\n",
    "plt.xlabel('epoch')\n",
    "plt.legend(['train', 'test'], loc='upper left')\n",
    "plt.show()"
   ]
  },
  {
   "cell_type": "markdown",
   "metadata": {},
   "source": [
    "# Update lr and training: 4"
   ]
  },
  {
   "cell_type": "code",
   "execution_count": null,
   "metadata": {},
   "outputs": [
    {
     "name": "stdout",
     "output_type": "stream",
     "text": [
      "Epoch 1/30\n",
      "327/328 [============================>.] - ETA: 0s - loss: 0.0335 - acc: 0.9875\n",
      "Epoch 00001: saving model to Model_Weights/designed_model_1_weights.h5\n",
      "328/328 [==============================] - 162s 493ms/step - loss: 0.0334 - acc: 0.9875 - val_loss: 0.1434 - val_acc: 0.9509\n",
      "Epoch 2/30\n",
      "327/328 [============================>.] - ETA: 0s - loss: 0.0426 - acc: 0.9846\n",
      "Epoch 00002: saving model to Model_Weights/designed_model_1_weights.h5\n",
      "328/328 [==============================] - 153s 466ms/step - loss: 0.0426 - acc: 0.9846 - val_loss: 0.1489 - val_acc: 0.9531\n",
      "Epoch 3/30\n",
      "327/328 [============================>.] - ETA: 0s - loss: 0.0437 - acc: 0.9828\n",
      "Epoch 00003: saving model to Model_Weights/designed_model_1_weights.h5\n",
      "328/328 [==============================] - 155s 474ms/step - loss: 0.0435 - acc: 0.9829 - val_loss: 0.1725 - val_acc: 0.9451\n",
      "Epoch 4/30\n",
      "327/328 [============================>.] - ETA: 0s - loss: 0.0397 - acc: 0.9854\n",
      "Epoch 00004: saving model to Model_Weights/designed_model_1_weights.h5\n",
      "328/328 [==============================] - 158s 482ms/step - loss: 0.0398 - acc: 0.9853 - val_loss: 0.1540 - val_acc: 0.9509\n",
      "Epoch 5/30\n",
      "327/328 [============================>.] - ETA: 0s - loss: 0.0881 - acc: 0.9699\n",
      "Epoch 00005: saving model to Model_Weights/designed_model_1_weights.h5\n",
      "328/328 [==============================] - 160s 487ms/step - loss: 0.0879 - acc: 0.9699 - val_loss: 0.1482 - val_acc: 0.9498\n",
      "Epoch 6/30\n",
      "327/328 [============================>.] - ETA: 0s - loss: 0.0371 - acc: 0.9865\n",
      "Epoch 00006: saving model to Model_Weights/designed_model_1_weights.h5\n",
      "328/328 [==============================] - 163s 497ms/step - loss: 0.0372 - acc: 0.9865 - val_loss: 0.1690 - val_acc: 0.9453\n",
      "Epoch 7/30\n",
      "327/328 [============================>.] - ETA: 0s - loss: 0.0405 - acc: 0.9859\n",
      "Epoch 00007: saving model to Model_Weights/designed_model_1_weights.h5\n",
      "328/328 [==============================] - 159s 485ms/step - loss: 0.0404 - acc: 0.9859 - val_loss: 0.1467 - val_acc: 0.9506\n",
      "Epoch 8/30\n",
      "327/328 [============================>.] - ETA: 0s - loss: 0.0352 - acc: 0.9866\n",
      "Epoch 00008: saving model to Model_Weights/designed_model_1_weights.h5\n",
      "328/328 [==============================] - 155s 473ms/step - loss: 0.0353 - acc: 0.9865 - val_loss: 0.1799 - val_acc: 0.9461\n",
      "Epoch 9/30\n",
      "327/328 [============================>.] - ETA: 0s - loss: 0.0350 - acc: 0.9879\n",
      "Epoch 00009: saving model to Model_Weights/designed_model_1_weights.h5\n",
      "328/328 [==============================] - 158s 482ms/step - loss: 0.0349 - acc: 0.9879 - val_loss: 0.1585 - val_acc: 0.9476\n",
      "Epoch 10/30\n",
      "327/328 [============================>.] - ETA: 0s - loss: 0.0367 - acc: 0.9868\n",
      "Epoch 00010: saving model to Model_Weights/designed_model_1_weights.h5\n",
      "328/328 [==============================] - 158s 482ms/step - loss: 0.0367 - acc: 0.9867 - val_loss: 0.1708 - val_acc: 0.9466\n",
      "Epoch 11/30\n",
      "327/328 [============================>.] - ETA: 0s - loss: 0.0365 - acc: 0.9864\n",
      "Epoch 00011: saving model to Model_Weights/designed_model_1_weights.h5\n",
      "328/328 [==============================] - 154s 468ms/step - loss: 0.0366 - acc: 0.9864 - val_loss: 0.3329 - val_acc: 0.9073\n",
      "Epoch 12/30\n",
      "327/328 [============================>.] - ETA: 0s - loss: 0.0336 - acc: 0.9879\n",
      "Epoch 00012: saving model to Model_Weights/designed_model_1_weights.h5\n",
      "328/328 [==============================] - 160s 488ms/step - loss: 0.0335 - acc: 0.9879 - val_loss: 0.1668 - val_acc: 0.9539\n",
      "Epoch 13/30\n",
      "327/328 [============================>.] - ETA: 0s - loss: 0.0287 - acc: 0.9891\n",
      "Epoch 00013: saving model to Model_Weights/designed_model_1_weights.h5\n",
      "328/328 [==============================] - 157s 478ms/step - loss: 0.0287 - acc: 0.9891 - val_loss: 0.1790 - val_acc: 0.9463\n",
      "Epoch 14/30\n",
      "327/328 [============================>.] - ETA: 0s - loss: 0.0426 - acc: 0.9847\n",
      "Epoch 00014: saving model to Model_Weights/designed_model_1_weights.h5\n",
      "328/328 [==============================] - 160s 486ms/step - loss: 0.0427 - acc: 0.9846 - val_loss: 0.1612 - val_acc: 0.9501\n",
      "Epoch 15/30\n",
      "327/328 [============================>.] - ETA: 0s - loss: 0.0523 - acc: 0.9812\n",
      "Epoch 00015: saving model to Model_Weights/designed_model_1_weights.h5\n",
      "328/328 [==============================] - 158s 481ms/step - loss: 0.0523 - acc: 0.9812 - val_loss: 0.1594 - val_acc: 0.9476\n",
      "Epoch 16/30\n",
      "327/328 [============================>.] - ETA: 0s - loss: 0.0368 - acc: 0.9866\n",
      "Epoch 00016: saving model to Model_Weights/designed_model_1_weights.h5\n",
      "328/328 [==============================] - 155s 474ms/step - loss: 0.0368 - acc: 0.9866 - val_loss: 0.1792 - val_acc: 0.9501\n",
      "Epoch 17/30\n",
      "327/328 [============================>.] - ETA: 0s - loss: 0.0321 - acc: 0.9886\n",
      "Epoch 00017: saving model to Model_Weights/designed_model_1_weights.h5\n",
      "328/328 [==============================] - 161s 491ms/step - loss: 0.0320 - acc: 0.9887 - val_loss: 0.1933 - val_acc: 0.9433\n",
      "Epoch 18/30\n",
      "327/328 [============================>.] - ETA: 0s - loss: 0.0286 - acc: 0.9894\n",
      "Epoch 00018: saving model to Model_Weights/designed_model_1_weights.h5\n",
      "328/328 [==============================] - 156s 476ms/step - loss: 0.0285 - acc: 0.9895 - val_loss: 0.1553 - val_acc: 0.9544\n",
      "Epoch 19/30\n",
      "327/328 [============================>.] - ETA: 0s - loss: 0.0305 - acc: 0.9890\n",
      "Epoch 00019: saving model to Model_Weights/designed_model_1_weights.h5\n",
      "328/328 [==============================] - 159s 486ms/step - loss: 0.0306 - acc: 0.9889 - val_loss: 0.1914 - val_acc: 0.9493\n",
      "Epoch 20/30\n",
      "327/328 [============================>.] - ETA: 0s - loss: 0.0312 - acc: 0.9879\n",
      "Epoch 00020: saving model to Model_Weights/designed_model_1_weights.h5\n",
      "328/328 [==============================] - 157s 478ms/step - loss: 0.0315 - acc: 0.9879 - val_loss: 0.1826 - val_acc: 0.9509\n",
      "Epoch 21/30\n",
      "327/328 [============================>.] - ETA: 0s - loss: 0.0284 - acc: 0.9894\n",
      "Epoch 00021: saving model to Model_Weights/designed_model_1_weights.h5\n",
      "328/328 [==============================] - 157s 480ms/step - loss: 0.0283 - acc: 0.9895 - val_loss: 0.1856 - val_acc: 0.9493\n",
      "Epoch 22/30\n",
      "327/328 [============================>.] - ETA: 0s - loss: 0.0325 - acc: 0.9889\n",
      "Epoch 00022: saving model to Model_Weights/designed_model_1_weights.h5\n",
      "328/328 [==============================] - 154s 469ms/step - loss: 0.0325 - acc: 0.9889 - val_loss: 0.1710 - val_acc: 0.9478\n",
      "Epoch 23/30\n",
      "327/328 [============================>.] - ETA: 0s - loss: 0.0440 - acc: 0.9839\n",
      "Epoch 00023: saving model to Model_Weights/designed_model_1_weights.h5\n",
      "328/328 [==============================] - 156s 476ms/step - loss: 0.0439 - acc: 0.9839 - val_loss: 0.1406 - val_acc: 0.9536\n",
      "Epoch 24/30\n",
      "327/328 [============================>.] - ETA: 0s - loss: 0.0280 - acc: 0.9903\n",
      "Epoch 00024: saving model to Model_Weights/designed_model_1_weights.h5\n",
      "328/328 [==============================] - 151s 460ms/step - loss: 0.0281 - acc: 0.9902 - val_loss: 0.1560 - val_acc: 0.9534\n",
      "Epoch 25/30\n",
      "327/328 [============================>.] - ETA: 0s - loss: 0.0400 - acc: 0.9855\n",
      "Epoch 00025: saving model to Model_Weights/designed_model_1_weights.h5\n",
      "328/328 [==============================] - 155s 472ms/step - loss: 0.0400 - acc: 0.9855 - val_loss: 0.1616 - val_acc: 0.9476\n",
      "Epoch 26/30\n",
      "327/328 [============================>.] - ETA: 0s - loss: 0.0285 - acc: 0.9900\n",
      "Epoch 00026: saving model to Model_Weights/designed_model_1_weights.h5\n",
      "328/328 [==============================] - 155s 471ms/step - loss: 0.0288 - acc: 0.9899 - val_loss: 0.1675 - val_acc: 0.9506\n",
      "Epoch 27/30\n",
      "228/328 [===================>..........] - ETA: 42s - loss: 0.0425 - acc: 0.9876"
     ]
    }
   ],
   "source": [
    "from keras import backend as K\n",
    "K.set_value(model.optimizer.lr, 0.0002)\n",
    "\n",
    "epochs = 30\n",
    "\n",
    "history = model.fit(\n",
    "    x=train_generator,\n",
    "    steps_per_epoch=steps_per_epoch,\n",
    "    epochs=epochs,\n",
    "    validation_data = test_generator,\n",
    "    validation_steps = test_stepas,\n",
    "    callbacks=callbacks\n",
    ")"
   ]
  },
  {
   "cell_type": "code",
   "execution_count": null,
   "metadata": {},
   "outputs": [],
   "source": []
  }
 ],
 "metadata": {
  "kernelspec": {
   "display_name": "Python 3",
   "language": "python",
   "name": "python3"
  },
  "language_info": {
   "codemirror_mode": {
    "name": "ipython",
    "version": 3
   },
   "file_extension": ".py",
   "mimetype": "text/x-python",
   "name": "python",
   "nbconvert_exporter": "python",
   "pygments_lexer": "ipython3",
   "version": "3.5.2"
  }
 },
 "nbformat": 4,
 "nbformat_minor": 2
}
